{
 "cells": [
  {
   "cell_type": "markdown",
   "metadata": {},
   "source": [
    "# LFM梯度下降算法实现"
   ]
  },
  {
   "cell_type": "markdown",
   "metadata": {},
   "source": [
    "### 0. 引入依赖"
   ]
  },
  {
   "cell_type": "code",
   "execution_count": 1,
   "metadata": {},
   "outputs": [],
   "source": [
    "import numpy as np\n",
    "import pandas as pd"
   ]
  },
  {
   "cell_type": "markdown",
   "metadata": {},
   "source": [
    "### 1. 数据准备"
   ]
  },
  {
   "cell_type": "code",
   "execution_count": 2,
   "metadata": {},
   "outputs": [
    {
     "data": {
      "text/plain": [
       "5"
      ]
     },
     "execution_count": 2,
     "metadata": {},
     "output_type": "execute_result"
    }
   ],
   "source": [
    "# 评分矩阵R\n",
    "R = np.array([[4,0,2,0,1],\n",
    "             [0,2,3,0,0],\n",
    "             [1,0,2,4,0],\n",
    "             [5,0,0,3,1],\n",
    "             [0,0,1,5,1],\n",
    "             [0,3,2,4,1],])\n",
    "len(R[0])"
   ]
  },
  {
   "cell_type": "markdown",
   "metadata": {},
   "source": [
    "### 2. 算法实现"
   ]
  },
  {
   "cell_type": "code",
   "execution_count": 3,
   "metadata": {},
   "outputs": [],
   "source": [
    "\"\"\"\n",
    "@输入参数：\n",
    "R：M*N 的评分矩阵\n",
    "K：隐特征向量维度\n",
    "max_iter: 最大迭代次数\n",
    "alpha：步长\n",
    "lamda：正则化系数\n",
    "\n",
    "@输出：\n",
    "分解之后的 P，Q\n",
    "P：初始化用户特征矩阵M*K\n",
    "Q：初始化物品特征矩阵N*K\n",
    "\"\"\"\n",
    "\n",
    "# 给定超参数\n",
    "\n",
    "K = 5\n",
    "max_iter = 5000\n",
    "alpha = 0.0002\n",
    "lamda = 0.004\n",
    "\n",
    "# 核心算法\n",
    "def LFM_grad_desc( R, K=2, max_iter=1000, alpha=0.0001, lamda=0.002 ):\n",
    "    # 基本维度参数定义\n",
    "    M = len(R)\n",
    "    N = len(R[0])\n",
    "    \n",
    "    # P,Q初始值，随机生成\n",
    "    P = np.random.rand(M, K)\n",
    "    Q = np.random.rand(N, K)\n",
    "    Q = Q.T\n",
    "    \n",
    "    # 开始迭代\n",
    "    for step in range(max_iter):\n",
    "        # 对所有的用户u、物品i做遍历，对应的特征向量Pu、Qi梯度下降\n",
    "        for u in range(M):\n",
    "            for i in range(N):\n",
    "                # 对于每一个大于0的评分，求出预测评分误差\n",
    "                if R[u][i] > 0:\n",
    "                    eui = np.dot( P[u,:], Q[:,i] ) - R[u][i]\n",
    "                    \n",
    "                    # 代入公式，按照梯度下降算法更新当前的Pu、Qi\n",
    "                    for k in range(K):\n",
    "                        P[u][k] = P[u][k] - alpha * ( 2 * eui * Q[k][i] + 2 * lamda * P[u][k] )\n",
    "                        Q[k][i] = Q[k][i] - alpha * ( 2 * eui * P[u][k] + 2 * lamda * Q[k][i] )\n",
    "        \n",
    "        # u、i遍历完成，所有特征向量更新完成，可以得到P、Q，可以计算预测评分矩阵\n",
    "        predR = np.dot( P, Q )\n",
    "        \n",
    "        # 计算当前损失函数\n",
    "        cost = 0\n",
    "        for u in range(M):\n",
    "            for i in range(N):\n",
    "                if R[u][i] > 0:\n",
    "                    cost += ( np.dot( P[u,:], Q[:,i] ) - R[u][i] ) ** 2\n",
    "                    # 加上正则化项\n",
    "                    for k in range(K):\n",
    "                        cost += lamda * ( P[u][k] ** 2 + Q[k][i] ** 2 )\n",
    "        if cost < 0.0001:\n",
    "            break\n",
    "        \n",
    "    return P, Q.T, cost"
   ]
  },
  {
   "cell_type": "markdown",
   "metadata": {},
   "source": [
    "### 3. 测试"
   ]
  },
  {
   "cell_type": "code",
   "execution_count": 4,
   "metadata": {},
   "outputs": [
    {
     "name": "stdout",
     "output_type": "stream",
     "text": [
      "[[ 1.20228712  0.2163174   0.7221636   0.42297014  0.96337102]\n",
      " [ 0.64706519  0.37203219  1.22170939  0.81407379  1.32787257]\n",
      " [ 0.75393526  0.67937964 -0.19127409  1.47400963  0.43731798]\n",
      " [ 1.00876416 -0.16999092  1.3076031   0.22905326  1.13485348]\n",
      " [ 0.95527577  1.25781822  0.77994284  0.93501153 -0.32947453]\n",
      " [ 1.52664365  0.18274245  1.01764047  0.35637914  0.69029207]]\n",
      "[[ 1.20685233 -0.19093666  1.68072371 -0.02144532  1.38281313]\n",
      " [ 1.40886966  0.40580216  0.49848527  0.34758071  0.08367186]\n",
      " [ 0.2806506  -0.04990035  0.46448909  0.91850157  1.09114708]\n",
      " [ 1.47507932  1.32235372  0.85917103  1.39159692  0.24621947]\n",
      " [ 0.29031004  0.37331968  0.27010392  0.1400478   0.31066989]]\n",
      "0.5813731297560372\n",
      "[[4 0 2 0 1]\n",
      " [0 2 3 0 0]\n",
      " [1 0 2 4 0]\n",
      " [5 0 0 3 1]\n",
      " [0 0 1 5 1]\n",
      " [0 3 2 4 1]]\n"
     ]
    },
    {
     "data": {
      "text/plain": [
       "array([[3.94652892, 2.36925912, 2.1017436 , 3.50578366, 0.98337718],\n",
       "       [4.58197503, 2.06566802, 2.9271377 , 3.9558986 , 1.18326421],\n",
       "       [1.03180958, 1.79147143, 1.91990475, 4.0050608 , 0.76313021],\n",
       "       [5.01198457, 2.1786252 , 2.34763809, 2.98484657, 0.96722533],\n",
       "       [1.74792828, 2.54249864, 1.06691247, 4.96252856, 0.98614854],\n",
       "       [4.46481594, 2.9139065 , 1.97256241, 4.0337973 , 1.05065307]])"
      ]
     },
     "execution_count": 4,
     "metadata": {},
     "output_type": "execute_result"
    }
   ],
   "source": [
    "P, Q, cost = LFM_grad_desc(R, K, max_iter, alpha, lamda)\n",
    "\n",
    "print(P)\n",
    "print(Q)\n",
    "print(cost)\n",
    "\n",
    "predR = P.dot(Q.T)\n",
    "\n",
    "print(R)\n",
    "predR"
   ]
  },
  {
   "cell_type": "code",
   "execution_count": null,
   "metadata": {},
   "outputs": [],
   "source": []
  }
 ],
 "metadata": {
  "kernelspec": {
   "display_name": "Python 3",
   "language": "python",
   "name": "python3"
  },
  "language_info": {
   "codemirror_mode": {
    "name": "ipython",
    "version": 3
   },
   "file_extension": ".py",
   "mimetype": "text/x-python",
   "name": "python",
   "nbconvert_exporter": "python",
   "pygments_lexer": "ipython3",
   "version": "3.7.7"
  },
  "toc": {
   "base_numbering": 1,
   "nav_menu": {},
   "number_sections": true,
   "sideBar": true,
   "skip_h1_title": false,
   "title_cell": "Table of Contents",
   "title_sidebar": "Contents",
   "toc_cell": false,
   "toc_position": {},
   "toc_section_display": true,
   "toc_window_display": false
  },
  "varInspector": {
   "cols": {
    "lenName": 16,
    "lenType": 16,
    "lenVar": 40
   },
   "kernels_config": {
    "python": {
     "delete_cmd_postfix": "",
     "delete_cmd_prefix": "del ",
     "library": "var_list.py",
     "varRefreshCmd": "print(var_dic_list())"
    },
    "r": {
     "delete_cmd_postfix": ") ",
     "delete_cmd_prefix": "rm(",
     "library": "var_list.r",
     "varRefreshCmd": "cat(var_dic_list()) "
    }
   },
   "types_to_exclude": [
    "module",
    "function",
    "builtin_function_or_method",
    "instance",
    "_Feature"
   ],
   "window_display": false
  }
 },
 "nbformat": 4,
 "nbformat_minor": 2
}
